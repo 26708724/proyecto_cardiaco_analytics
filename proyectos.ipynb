{
  "nbformat": 4,
  "nbformat_minor": 0,
  "metadata": {
    "colab": {
      "provenance": []
    },
    "kernelspec": {
      "name": "python3",
      "display_name": "Python 3"
    }
  },
  "cells": [
    {
      "cell_type": "markdown",
      "metadata": {
        "id": "FcBj8oqlBm1W"
      },
      "source": [
        "<a href=\"https://www.inove.com.ar\"><img src=\"https://raw.githubusercontent.com/InoveAlumnos/dataset_analytics_python/master/images/PA%20Banner.png\" width=\"1000\" align=\"center\"></a>\n",
        "\n",
        "\n",
        "# Proyectos\n",
        "\n",
        "Proyectos propuestos para Python Analytics<br>\n",
        "v1.5"
      ]
    },
    {
      "cell_type": "markdown",
      "metadata": {
        "id": "mfnI5-sJDqwl"
      },
      "source": [
        "### Formato de entrega\n",
        "Toda la etapa de entrenamiento del proyecto se debe realizar en un colab o nootebook que luego el alumno subierá a su repositorio de proyecto para que el profesor pueda evaluar los avances.<br>\n",
        "\n",
        "__APROBACIÓN:__ El proyecto será aprobado cuando el modelo entrenado alcance la exactitud/condición planteada en el proyecto.<br>"
      ]
    },
    {
      "cell_type": "markdown",
      "metadata": {
        "id": "MPHywLmR6LYn"
      },
      "source": [
        "### Predicción de enfermedades cardíacas\n",
        "<img src=\"https://github.com/InoveAlumnos/proyecto_analytics_python/raw/main/heart.png\" width=\"300\" align=\"center\">"
      ]
    },
    {
      "cell_type": "markdown",
      "metadata": {
        "id": "9BZnv5-R6Skr"
      },
      "source": [
        "- El objetivo es armar un clasificador binario que permita predecir si un paciente podría presentar o no enfermedades cardíacas.\n",
        "- Deberá entrenar un modelo clasificador y varios algoritmos para clasificación. Por ejemplo, en el caso de seleccionar un RandomForest debe entrenar con distinto número de estimadores (distantas cantidad de árboles), pero a su vez entrenar distintos KNN o regresión logística, etc. Deberá compararlos utilizando la métrica adecuada y elegir el mejor modelo.\n",
        "- Entre el dataset encontrará datos categóricos que requieren ser codificados, y datos numéricos para normalizar.\n",
        "- A modo de análisis, debe identificar si el dataset se encuentra correctamente balanceado (entre pacientes con y sin enfermedad cardíaca), y como está balanceado el dataset en cuanto a género y edad (este análisis es unicamente a modo informativo)."
      ]
    },
    {
      "cell_type": "markdown",
      "metadata": {
        "id": "TlDN-cSe7RUr"
      },
      "source": [
        "#### Objetivo"
      ]
    },
    {
      "cell_type": "markdown",
      "metadata": {
        "id": "s2rnds1N7e5q"
      },
      "source": [
        "El accuracy del modelo definitivo debe superar el 80% (0.8)"
      ]
    },
    {
      "cell_type": "markdown",
      "metadata": {
        "id": "fbZirXUT7km6"
      },
      "source": [
        "#### Como descargar el dataset"
      ]
    },
    {
      "cell_type": "code",
      "metadata": {
        "id": "p4ihvlFl7pIx"
      },
      "source": [
        "# Ejecutar:\n",
        "if os.access('heart.csv', os.F_OK) is False:\n",
        "    if platform.system() == 'Windows':\n",
        "        !curl https://raw.githubusercontent.com/InoveAlumnos/dataset_analytics_python/master/heart.csv > heart.csv\n",
        "    else:\n",
        "        !wget heart.csv https://raw.githubusercontent.com/InoveAlumnos/dataset_analytics_python/master/heart.csv"
      ],
      "execution_count": null,
      "outputs": []
    }
  ]
}